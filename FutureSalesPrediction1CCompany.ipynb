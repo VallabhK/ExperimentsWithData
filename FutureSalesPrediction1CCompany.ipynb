{
  "nbformat": 4,
  "nbformat_minor": 0,
  "metadata": {
    "colab": {
      "name": "FutureSalesPrediction1CCompany.ipynb",
      "provenance": [],
      "collapsed_sections": [],
      "include_colab_link": true
    },
    "kernelspec": {
      "name": "python3",
      "display_name": "Python 3"
    }
  },
  "cells": [
    {
      "cell_type": "markdown",
      "metadata": {
        "id": "view-in-github",
        "colab_type": "text"
      },
      "source": [
        "<a href=\"https://colab.research.google.com/github/VallabhK/ExperimentsWithData/blob/master/FutureSalesPrediction1CCompany.ipynb\" target=\"_parent\"><img src=\"https://colab.research.google.com/assets/colab-badge.svg\" alt=\"Open In Colab\"/></a>"
      ]
    },
    {
      "cell_type": "markdown",
      "metadata": {
        "id": "eSVjjf4oR-9o",
        "colab_type": "text"
      },
      "source": [
        "# **Future Sales Prediction**\n",
        "\n",
        "**Problem Statement:** In this competition you will work with a challenging time-series dataset consisting of daily sales data, kindly provided by one of the largest Russian software firms - 1C Company. \n",
        "\n",
        "We are asking you to predict total sales for every product and store in the next month. Develop a robust model which can handle slight changes in list of shops and products."
      ]
    },
    {
      "cell_type": "markdown",
      "metadata": {
        "id": "pJEuViJVSw_H",
        "colab_type": "text"
      },
      "source": [
        "References: https://www.kaggle.com/jagangupta/time-series-basics-exploring-traditional-ts "
      ]
    },
    {
      "cell_type": "code",
      "metadata": {
        "id": "wkKBor9kD5kH",
        "colab_type": "code",
        "colab": {
          "base_uri": "https://localhost:8080/",
          "height": 71
        },
        "outputId": "4e169c85-3f32-4956-d116-350dbda62ca3"
      },
      "source": [
        "#importing libraries\n",
        "\n",
        "import pandas as pd #Data processing\n",
        "import numpy as np #Matrix/Linear algebraic operations\n",
        "import random as rd #Random number \n",
        "import datetime #date formats\n",
        "\n",
        "#Visualization packages\n",
        "from matplotlib import pyplot as plt\n",
        "import seaborn as sns"
      ],
      "execution_count": 1,
      "outputs": [
        {
          "output_type": "stream",
          "text": [
            "/usr/local/lib/python3.6/dist-packages/statsmodels/tools/_testing.py:19: FutureWarning: pandas.util.testing is deprecated. Use the functions in the public API at pandas.testing instead.\n",
            "  import pandas.util.testing as tm\n"
          ],
          "name": "stderr"
        }
      ]
    },
    {
      "cell_type": "code",
      "metadata": {
        "id": "MaUQUAaWveQT",
        "colab_type": "code",
        "colab": {}
      },
      "source": [
        "path_to_directory = 'https://raw.githubusercontent.com/VallabhK/ExperimentsWithData/master/Input/'"
      ],
      "execution_count": 0,
      "outputs": []
    },
    {
      "cell_type": "code",
      "metadata": {
        "id": "DjZduK6g5-OM",
        "colab_type": "code",
        "colab": {}
      },
      "source": [
        "#importing data and converting to pandas dataframe\n",
        "\n",
        "url = path_to_directory + 'sales_train.csv'\n",
        "salestrain = pd.read_csv(url);"
      ],
      "execution_count": 0,
      "outputs": []
    },
    {
      "cell_type": "code",
      "metadata": {
        "id": "XBa-zVndEYQG",
        "colab_type": "code",
        "outputId": "f301b65d-ec8c-4b03-8144-fc2b27373cb0",
        "colab": {
          "base_uri": "https://localhost:8080/",
          "height": 204
        }
      },
      "source": [
        "#checking imported data\n",
        "salestrain.head()"
      ],
      "execution_count": 4,
      "outputs": [
        {
          "output_type": "execute_result",
          "data": {
            "text/html": [
              "<div>\n",
              "<style scoped>\n",
              "    .dataframe tbody tr th:only-of-type {\n",
              "        vertical-align: middle;\n",
              "    }\n",
              "\n",
              "    .dataframe tbody tr th {\n",
              "        vertical-align: top;\n",
              "    }\n",
              "\n",
              "    .dataframe thead th {\n",
              "        text-align: right;\n",
              "    }\n",
              "</style>\n",
              "<table border=\"1\" class=\"dataframe\">\n",
              "  <thead>\n",
              "    <tr style=\"text-align: right;\">\n",
              "      <th></th>\n",
              "      <th>date</th>\n",
              "      <th>date_block_num</th>\n",
              "      <th>shop_id</th>\n",
              "      <th>item_id</th>\n",
              "      <th>item_price</th>\n",
              "      <th>item_cnt_day</th>\n",
              "    </tr>\n",
              "  </thead>\n",
              "  <tbody>\n",
              "    <tr>\n",
              "      <th>0</th>\n",
              "      <td>02.01.2013</td>\n",
              "      <td>0</td>\n",
              "      <td>59</td>\n",
              "      <td>22154</td>\n",
              "      <td>999.00</td>\n",
              "      <td>1.0</td>\n",
              "    </tr>\n",
              "    <tr>\n",
              "      <th>1</th>\n",
              "      <td>03.01.2013</td>\n",
              "      <td>0</td>\n",
              "      <td>25</td>\n",
              "      <td>2552</td>\n",
              "      <td>899.00</td>\n",
              "      <td>1.0</td>\n",
              "    </tr>\n",
              "    <tr>\n",
              "      <th>2</th>\n",
              "      <td>05.01.2013</td>\n",
              "      <td>0</td>\n",
              "      <td>25</td>\n",
              "      <td>2552</td>\n",
              "      <td>899.00</td>\n",
              "      <td>-1.0</td>\n",
              "    </tr>\n",
              "    <tr>\n",
              "      <th>3</th>\n",
              "      <td>06.01.2013</td>\n",
              "      <td>0</td>\n",
              "      <td>25</td>\n",
              "      <td>2554</td>\n",
              "      <td>1709.05</td>\n",
              "      <td>1.0</td>\n",
              "    </tr>\n",
              "    <tr>\n",
              "      <th>4</th>\n",
              "      <td>15.01.2013</td>\n",
              "      <td>0</td>\n",
              "      <td>25</td>\n",
              "      <td>2555</td>\n",
              "      <td>1099.00</td>\n",
              "      <td>1.0</td>\n",
              "    </tr>\n",
              "  </tbody>\n",
              "</table>\n",
              "</div>"
            ],
            "text/plain": [
              "         date  date_block_num  shop_id  item_id  item_price  item_cnt_day\n",
              "0  02.01.2013               0       59    22154      999.00           1.0\n",
              "1  03.01.2013               0       25     2552      899.00           1.0\n",
              "2  05.01.2013               0       25     2552      899.00          -1.0\n",
              "3  06.01.2013               0       25     2554     1709.05           1.0\n",
              "4  15.01.2013               0       25     2555     1099.00           1.0"
            ]
          },
          "metadata": {
            "tags": []
          },
          "execution_count": 4
        }
      ]
    },
    {
      "cell_type": "code",
      "metadata": {
        "id": "iOlx07UNzXq2",
        "colab_type": "code",
        "colab": {}
      },
      "source": [
        "#splitting date into day, month and year\n",
        "new = salestrain['date'].str.split(\".\", expand = True) \n",
        "\n",
        "#creating new columns to store date\n",
        "salestrain['day'] = new[0]\n",
        "salestrain['month'] = new[1]\n",
        "salestrain['year'] = new[2]"
      ],
      "execution_count": 0,
      "outputs": []
    },
    {
      "cell_type": "code",
      "metadata": {
        "id": "2cL7GDttzkEY",
        "colab_type": "code",
        "outputId": "52c5462c-c28c-460f-8f94-8b88eddf7a9a",
        "colab": {
          "base_uri": "https://localhost:8080/",
          "height": 204
        }
      },
      "source": [
        "salestrain.head()"
      ],
      "execution_count": 6,
      "outputs": [
        {
          "output_type": "execute_result",
          "data": {
            "text/html": [
              "<div>\n",
              "<style scoped>\n",
              "    .dataframe tbody tr th:only-of-type {\n",
              "        vertical-align: middle;\n",
              "    }\n",
              "\n",
              "    .dataframe tbody tr th {\n",
              "        vertical-align: top;\n",
              "    }\n",
              "\n",
              "    .dataframe thead th {\n",
              "        text-align: right;\n",
              "    }\n",
              "</style>\n",
              "<table border=\"1\" class=\"dataframe\">\n",
              "  <thead>\n",
              "    <tr style=\"text-align: right;\">\n",
              "      <th></th>\n",
              "      <th>date</th>\n",
              "      <th>date_block_num</th>\n",
              "      <th>shop_id</th>\n",
              "      <th>item_id</th>\n",
              "      <th>item_price</th>\n",
              "      <th>item_cnt_day</th>\n",
              "      <th>day</th>\n",
              "      <th>month</th>\n",
              "      <th>year</th>\n",
              "    </tr>\n",
              "  </thead>\n",
              "  <tbody>\n",
              "    <tr>\n",
              "      <th>0</th>\n",
              "      <td>02.01.2013</td>\n",
              "      <td>0</td>\n",
              "      <td>59</td>\n",
              "      <td>22154</td>\n",
              "      <td>999.00</td>\n",
              "      <td>1.0</td>\n",
              "      <td>02</td>\n",
              "      <td>01</td>\n",
              "      <td>2013</td>\n",
              "    </tr>\n",
              "    <tr>\n",
              "      <th>1</th>\n",
              "      <td>03.01.2013</td>\n",
              "      <td>0</td>\n",
              "      <td>25</td>\n",
              "      <td>2552</td>\n",
              "      <td>899.00</td>\n",
              "      <td>1.0</td>\n",
              "      <td>03</td>\n",
              "      <td>01</td>\n",
              "      <td>2013</td>\n",
              "    </tr>\n",
              "    <tr>\n",
              "      <th>2</th>\n",
              "      <td>05.01.2013</td>\n",
              "      <td>0</td>\n",
              "      <td>25</td>\n",
              "      <td>2552</td>\n",
              "      <td>899.00</td>\n",
              "      <td>-1.0</td>\n",
              "      <td>05</td>\n",
              "      <td>01</td>\n",
              "      <td>2013</td>\n",
              "    </tr>\n",
              "    <tr>\n",
              "      <th>3</th>\n",
              "      <td>06.01.2013</td>\n",
              "      <td>0</td>\n",
              "      <td>25</td>\n",
              "      <td>2554</td>\n",
              "      <td>1709.05</td>\n",
              "      <td>1.0</td>\n",
              "      <td>06</td>\n",
              "      <td>01</td>\n",
              "      <td>2013</td>\n",
              "    </tr>\n",
              "    <tr>\n",
              "      <th>4</th>\n",
              "      <td>15.01.2013</td>\n",
              "      <td>0</td>\n",
              "      <td>25</td>\n",
              "      <td>2555</td>\n",
              "      <td>1099.00</td>\n",
              "      <td>1.0</td>\n",
              "      <td>15</td>\n",
              "      <td>01</td>\n",
              "      <td>2013</td>\n",
              "    </tr>\n",
              "  </tbody>\n",
              "</table>\n",
              "</div>"
            ],
            "text/plain": [
              "         date  date_block_num  shop_id  item_id  ...  item_cnt_day  day month  year\n",
              "0  02.01.2013               0       59    22154  ...           1.0   02    01  2013\n",
              "1  03.01.2013               0       25     2552  ...           1.0   03    01  2013\n",
              "2  05.01.2013               0       25     2552  ...          -1.0   05    01  2013\n",
              "3  06.01.2013               0       25     2554  ...           1.0   06    01  2013\n",
              "4  15.01.2013               0       25     2555  ...           1.0   15    01  2013\n",
              "\n",
              "[5 rows x 9 columns]"
            ]
          },
          "metadata": {
            "tags": []
          },
          "execution_count": 6
        }
      ]
    },
    {
      "cell_type": "code",
      "metadata": {
        "id": "HQlIfYkuzkH2",
        "colab_type": "code",
        "colab": {}
      },
      "source": [
        "import warnings\n",
        "warnings.filterwarnings(\"ignore\")"
      ],
      "execution_count": 0,
      "outputs": []
    },
    {
      "cell_type": "code",
      "metadata": {
        "id": "gKgQCUj9rSR0",
        "colab_type": "code",
        "colab": {
          "base_uri": "https://localhost:8080/",
          "height": 54
        },
        "outputId": "41b6a5c8-7e9e-4c29-97eb-ab53d66ca3a8"
      },
      "source": [
        "\"\"\"x= salestrain.groupby(['item_category_id']).count()\n",
        "x= x.sort_values(by='item_id',ascending=False)\n",
        "x= x.iloc[0:10].reset_index()\n",
        "x\n",
        "# #plot\n",
        "plt.figure(figsize=(8,4))\n",
        "ax= sns.barplot(x.item_category_id, x.item_id, alpha=0.8)\n",
        "plt.title(\"Items per Category\")\n",
        "plt.ylabel('# of items', fontsize=12)\n",
        "plt.xlabel('Category', fontsize=12)\n",
        "plt.show()\n",
        "\"\"\""
      ],
      "execution_count": 8,
      "outputs": [
        {
          "output_type": "execute_result",
          "data": {
            "text/plain": [
              "'x= salestrain.groupby([\\'item_category_id\\']).count()\\nx= x.sort_values(by=\\'item_id\\',ascending=False)\\nx= x.iloc[0:10].reset_index()\\nx\\n# #plot\\nplt.figure(figsize=(8,4))\\nax= sns.barplot(x.item_category_id, x.item_id, alpha=0.8)\\nplt.title(\"Items per Category\")\\nplt.ylabel(\\'# of items\\', fontsize=12)\\nplt.xlabel(\\'Category\\', fontsize=12)\\nplt.show()\\n'"
            ]
          },
          "metadata": {
            "tags": []
          },
          "execution_count": 8
        }
      ]
    },
    {
      "cell_type": "markdown",
      "metadata": {
        "id": "DG7E52XYxgQ8",
        "colab_type": "text"
      },
      "source": [
        "**File descriptions**\n",
        "* sales_train.csv - the training set. Daily historical data from January 2013 to October 2015.\n",
        "* test.csv - the test set. You need to forecast the sales for these shops and products for November 2015.\n",
        "* sample_submission.csv - a sample submission file in the correct format.\n",
        "* items.csv - supplemental information about the items/products.\n",
        "* item_categories.csv  - supplemental information about the items categories.\n",
        "* shops.csv- supplemental information about the shops."
      ]
    },
    {
      "cell_type": "code",
      "metadata": {
        "id": "9EfY2WD_snrz",
        "colab_type": "code",
        "colab": {}
      },
      "source": [
        "#Reading all the data files\n",
        "item_categories = pd.read_csv(path_to_directory + 'item_categories.csv');\n",
        "items = pd.read_csv(path_to_directory + 'items.csv');\n",
        "sample_submission = pd.read_csv(path_to_directory + 'sample_submission.csv');\n",
        "shops = pd.read_csv(path_to_directory + 'shops.csv');\n",
        "test = pd.read_csv(path_to_directory + 'test.csv')\n"
      ],
      "execution_count": 0,
      "outputs": []
    }
  ]
}