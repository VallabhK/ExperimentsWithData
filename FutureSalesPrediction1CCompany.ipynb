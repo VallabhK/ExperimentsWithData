{
  "nbformat": 4,
  "nbformat_minor": 0,
  "metadata": {
    "colab": {
      "name": "FutureSalesPrediction1CCompany.ipynb",
      "provenance": [],
      "collapsed_sections": [],
      "machine_shape": "hm",
      "include_colab_link": true
    },
    "kernelspec": {
      "name": "python3",
      "display_name": "Python 3"
    }
  },
  "cells": [
    {
      "cell_type": "markdown",
      "metadata": {
        "id": "view-in-github",
        "colab_type": "text"
      },
      "source": [
        "<a href=\"https://colab.research.google.com/github/VallabhK/ExperimentsWithData/blob/master/FutureSalesPrediction1CCompany.ipynb\" target=\"_parent\"><img src=\"https://colab.research.google.com/assets/colab-badge.svg\" alt=\"Open In Colab\"/></a>"
      ]
    },
    {
      "cell_type": "markdown",
      "metadata": {
        "id": "eSVjjf4oR-9o",
        "colab_type": "text"
      },
      "source": [
        "# **Future Sales Prediction**\n",
        "\n",
        "**Problem Statement:** In this competition you will work with a challenging time-series dataset consisting of daily sales data, kindly provided by one of the largest Russian software firms - 1C Company. \n",
        "\n",
        "We are asking you to predict total sales for every product and store in the next month. Develop a robust model which can handle slight changes in list of shops and products."
      ]
    },
    {
      "cell_type": "markdown",
      "metadata": {
        "id": "pJEuViJVSw_H",
        "colab_type": "text"
      },
      "source": [
        "References: https://www.kaggle.com/jagangupta/time-series-basics-exploring-traditional-ts "
      ]
    },
    {
      "cell_type": "code",
      "metadata": {
        "id": "wkKBor9kD5kH",
        "colab_type": "code",
        "outputId": "f4e5fa38-e72c-4119-eaa3-cee8070d6915",
        "colab": {
          "base_uri": "https://localhost:8080/",
          "height": 71
        }
      },
      "source": [
        "#importing libraries\n",
        "\n",
        "import pandas as pd #Data processing\n",
        "import numpy as np #Matrix/Linear algebraic operations\n",
        "import random as rd #Random number \n",
        "import datetime #date formats\n",
        "\n",
        "#Visualization packages\n",
        "from matplotlib import pyplot as plt\n",
        "import seaborn as sns"
      ],
      "execution_count": 1,
      "outputs": [
        {
          "output_type": "stream",
          "text": [
            "/usr/local/lib/python3.6/dist-packages/statsmodels/tools/_testing.py:19: FutureWarning: pandas.util.testing is deprecated. Use the functions in the public API at pandas.testing instead.\n",
            "  import pandas.util.testing as tm\n"
          ],
          "name": "stderr"
        }
      ]
    },
    {
      "cell_type": "code",
      "metadata": {
        "id": "MaUQUAaWveQT",
        "colab_type": "code",
        "colab": {}
      },
      "source": [
        "path_to_directory = 'https://raw.githubusercontent.com/VallabhK/ExperimentsWithData/master/Input/'"
      ],
      "execution_count": 0,
      "outputs": []
    },
    {
      "cell_type": "code",
      "metadata": {
        "id": "DjZduK6g5-OM",
        "colab_type": "code",
        "colab": {}
      },
      "source": [
        "#importing data and converting to pandas dataframe\n",
        "\n",
        "url = path_to_directory + 'sales_train.csv'\n",
        "salestrain = pd.read_csv(url);"
      ],
      "execution_count": 0,
      "outputs": []
    },
    {
      "cell_type": "code",
      "metadata": {
        "id": "XBa-zVndEYQG",
        "colab_type": "code",
        "outputId": "e5572197-ca64-4598-9535-0508834494e7",
        "colab": {
          "base_uri": "https://localhost:8080/",
          "height": 204
        }
      },
      "source": [
        "#checking imported data\n",
        "salestrain.head()"
      ],
      "execution_count": 4,
      "outputs": [
        {
          "output_type": "execute_result",
          "data": {
            "text/html": [
              "<div>\n",
              "<style scoped>\n",
              "    .dataframe tbody tr th:only-of-type {\n",
              "        vertical-align: middle;\n",
              "    }\n",
              "\n",
              "    .dataframe tbody tr th {\n",
              "        vertical-align: top;\n",
              "    }\n",
              "\n",
              "    .dataframe thead th {\n",
              "        text-align: right;\n",
              "    }\n",
              "</style>\n",
              "<table border=\"1\" class=\"dataframe\">\n",
              "  <thead>\n",
              "    <tr style=\"text-align: right;\">\n",
              "      <th></th>\n",
              "      <th>date</th>\n",
              "      <th>date_block_num</th>\n",
              "      <th>shop_id</th>\n",
              "      <th>item_id</th>\n",
              "      <th>item_price</th>\n",
              "      <th>item_cnt_day</th>\n",
              "    </tr>\n",
              "  </thead>\n",
              "  <tbody>\n",
              "    <tr>\n",
              "      <th>0</th>\n",
              "      <td>02.01.2013</td>\n",
              "      <td>0</td>\n",
              "      <td>59</td>\n",
              "      <td>22154</td>\n",
              "      <td>999.00</td>\n",
              "      <td>1.0</td>\n",
              "    </tr>\n",
              "    <tr>\n",
              "      <th>1</th>\n",
              "      <td>03.01.2013</td>\n",
              "      <td>0</td>\n",
              "      <td>25</td>\n",
              "      <td>2552</td>\n",
              "      <td>899.00</td>\n",
              "      <td>1.0</td>\n",
              "    </tr>\n",
              "    <tr>\n",
              "      <th>2</th>\n",
              "      <td>05.01.2013</td>\n",
              "      <td>0</td>\n",
              "      <td>25</td>\n",
              "      <td>2552</td>\n",
              "      <td>899.00</td>\n",
              "      <td>-1.0</td>\n",
              "    </tr>\n",
              "    <tr>\n",
              "      <th>3</th>\n",
              "      <td>06.01.2013</td>\n",
              "      <td>0</td>\n",
              "      <td>25</td>\n",
              "      <td>2554</td>\n",
              "      <td>1709.05</td>\n",
              "      <td>1.0</td>\n",
              "    </tr>\n",
              "    <tr>\n",
              "      <th>4</th>\n",
              "      <td>15.01.2013</td>\n",
              "      <td>0</td>\n",
              "      <td>25</td>\n",
              "      <td>2555</td>\n",
              "      <td>1099.00</td>\n",
              "      <td>1.0</td>\n",
              "    </tr>\n",
              "  </tbody>\n",
              "</table>\n",
              "</div>"
            ],
            "text/plain": [
              "         date  date_block_num  shop_id  item_id  item_price  item_cnt_day\n",
              "0  02.01.2013               0       59    22154      999.00           1.0\n",
              "1  03.01.2013               0       25     2552      899.00           1.0\n",
              "2  05.01.2013               0       25     2552      899.00          -1.0\n",
              "3  06.01.2013               0       25     2554     1709.05           1.0\n",
              "4  15.01.2013               0       25     2555     1099.00           1.0"
            ]
          },
          "metadata": {
            "tags": []
          },
          "execution_count": 4
        }
      ]
    },
    {
      "cell_type": "code",
      "metadata": {
        "id": "iOlx07UNzXq2",
        "colab_type": "code",
        "colab": {}
      },
      "source": [
        "#splitting date into day, month and year\n",
        "new = salestrain['date'].str.split(\".\", expand = True) \n",
        "\n",
        "#creating new columns to store date\n",
        "salestrain['day'] = new[0]\n",
        "salestrain['month'] = new[1]\n",
        "salestrain['year'] = new[2]"
      ],
      "execution_count": 0,
      "outputs": []
    },
    {
      "cell_type": "code",
      "metadata": {
        "id": "2cL7GDttzkEY",
        "colab_type": "code",
        "outputId": "33707139-562e-48e7-bb9f-93e577a9bc7e",
        "colab": {
          "base_uri": "https://localhost:8080/",
          "height": 204
        }
      },
      "source": [
        "salestrain.head()"
      ],
      "execution_count": 6,
      "outputs": [
        {
          "output_type": "execute_result",
          "data": {
            "text/html": [
              "<div>\n",
              "<style scoped>\n",
              "    .dataframe tbody tr th:only-of-type {\n",
              "        vertical-align: middle;\n",
              "    }\n",
              "\n",
              "    .dataframe tbody tr th {\n",
              "        vertical-align: top;\n",
              "    }\n",
              "\n",
              "    .dataframe thead th {\n",
              "        text-align: right;\n",
              "    }\n",
              "</style>\n",
              "<table border=\"1\" class=\"dataframe\">\n",
              "  <thead>\n",
              "    <tr style=\"text-align: right;\">\n",
              "      <th></th>\n",
              "      <th>date</th>\n",
              "      <th>date_block_num</th>\n",
              "      <th>shop_id</th>\n",
              "      <th>item_id</th>\n",
              "      <th>item_price</th>\n",
              "      <th>item_cnt_day</th>\n",
              "      <th>day</th>\n",
              "      <th>month</th>\n",
              "      <th>year</th>\n",
              "    </tr>\n",
              "  </thead>\n",
              "  <tbody>\n",
              "    <tr>\n",
              "      <th>0</th>\n",
              "      <td>02.01.2013</td>\n",
              "      <td>0</td>\n",
              "      <td>59</td>\n",
              "      <td>22154</td>\n",
              "      <td>999.00</td>\n",
              "      <td>1.0</td>\n",
              "      <td>02</td>\n",
              "      <td>01</td>\n",
              "      <td>2013</td>\n",
              "    </tr>\n",
              "    <tr>\n",
              "      <th>1</th>\n",
              "      <td>03.01.2013</td>\n",
              "      <td>0</td>\n",
              "      <td>25</td>\n",
              "      <td>2552</td>\n",
              "      <td>899.00</td>\n",
              "      <td>1.0</td>\n",
              "      <td>03</td>\n",
              "      <td>01</td>\n",
              "      <td>2013</td>\n",
              "    </tr>\n",
              "    <tr>\n",
              "      <th>2</th>\n",
              "      <td>05.01.2013</td>\n",
              "      <td>0</td>\n",
              "      <td>25</td>\n",
              "      <td>2552</td>\n",
              "      <td>899.00</td>\n",
              "      <td>-1.0</td>\n",
              "      <td>05</td>\n",
              "      <td>01</td>\n",
              "      <td>2013</td>\n",
              "    </tr>\n",
              "    <tr>\n",
              "      <th>3</th>\n",
              "      <td>06.01.2013</td>\n",
              "      <td>0</td>\n",
              "      <td>25</td>\n",
              "      <td>2554</td>\n",
              "      <td>1709.05</td>\n",
              "      <td>1.0</td>\n",
              "      <td>06</td>\n",
              "      <td>01</td>\n",
              "      <td>2013</td>\n",
              "    </tr>\n",
              "    <tr>\n",
              "      <th>4</th>\n",
              "      <td>15.01.2013</td>\n",
              "      <td>0</td>\n",
              "      <td>25</td>\n",
              "      <td>2555</td>\n",
              "      <td>1099.00</td>\n",
              "      <td>1.0</td>\n",
              "      <td>15</td>\n",
              "      <td>01</td>\n",
              "      <td>2013</td>\n",
              "    </tr>\n",
              "  </tbody>\n",
              "</table>\n",
              "</div>"
            ],
            "text/plain": [
              "         date  date_block_num  shop_id  item_id  ...  item_cnt_day  day month  year\n",
              "0  02.01.2013               0       59    22154  ...           1.0   02    01  2013\n",
              "1  03.01.2013               0       25     2552  ...           1.0   03    01  2013\n",
              "2  05.01.2013               0       25     2552  ...          -1.0   05    01  2013\n",
              "3  06.01.2013               0       25     2554  ...           1.0   06    01  2013\n",
              "4  15.01.2013               0       25     2555  ...           1.0   15    01  2013\n",
              "\n",
              "[5 rows x 9 columns]"
            ]
          },
          "metadata": {
            "tags": []
          },
          "execution_count": 6
        }
      ]
    },
    {
      "cell_type": "code",
      "metadata": {
        "id": "HQlIfYkuzkH2",
        "colab_type": "code",
        "colab": {}
      },
      "source": [
        "import warnings\n",
        "warnings.filterwarnings(\"ignore\")"
      ],
      "execution_count": 0,
      "outputs": []
    },
    {
      "cell_type": "markdown",
      "metadata": {
        "id": "DG7E52XYxgQ8",
        "colab_type": "text"
      },
      "source": [
        "**File descriptions**\n",
        "* sales_train.csv - the training set. Daily historical data from January 2013 to October 2015.\n",
        "* test.csv - the test set. You need to forecast the sales for these shops and products for November 2015.\n",
        "* sample_submission.csv - a sample submission file in the correct format.\n",
        "* items.csv - supplemental information about the items/products.\n",
        "* item_categories.csv  - supplemental information about the items categories.\n",
        "* shops.csv- supplemental information about the shops."
      ]
    },
    {
      "cell_type": "code",
      "metadata": {
        "id": "9EfY2WD_snrz",
        "colab_type": "code",
        "colab": {}
      },
      "source": [
        "#Reading all the data files\n",
        "item_categories = pd.read_csv(path_to_directory + 'item_categories.csv');\n",
        "items = pd.read_csv(path_to_directory + 'items.csv');\n",
        "sample_submission = pd.read_csv(path_to_directory + 'sample_submission.csv');\n",
        "shops = pd.read_csv(path_to_directory + 'shops.csv');\n",
        "test = pd.read_csv(path_to_directory + 'test.csv')\n"
      ],
      "execution_count": 0,
      "outputs": []
    },
    {
      "cell_type": "code",
      "metadata": {
        "id": "_3M-d7WPmt8a",
        "colab_type": "code",
        "colab": {
          "base_uri": "https://localhost:8080/",
          "height": 298
        },
        "outputId": "6386b209-e0ff-4ad9-9ddb-684b9285b5a7"
      },
      "source": [
        "x=items.groupby(['item_category_id']).count()\n",
        "x=x.sort_values(by='item_id',ascending=False)\n",
        "x=x.iloc[0:10].reset_index()\n",
        "plt.figure(figsize=(8,4))\n",
        "ax= sns.barplot(x.item_category_id, x.item_id, alpha=0.8)\n",
        "plt.title(\"Items per Category\")\n",
        "plt.ylabel('# of items', fontsize=12)\n",
        "plt.xlabel('Category', fontsize=12)\n",
        "plt.show()"
      ],
      "execution_count": 9,
      "outputs": [
        {
          "output_type": "display_data",
          "data": {
            "image/png": "[encoded data removed]",
            "text/plain": [
              "<Figure size 576x288 with 1 Axes>"
            ]
          },
          "metadata": {
            "tags": [],
            "needs_background": "light"
          }
        }
      ]
    },
    {
      "cell_type": "code",
      "metadata": {
        "id": "AoXrlMMHpu4V",
        "colab_type": "code",
        "colab": {}
      },
      "source": [
        "salestrain['date'] = pd.to_datetime(salestrain['date'], infer_datetime_format=True)\n",
        "indexedSalesDataset = salestrain.set_index(['date'])\n"
      ],
      "execution_count": 0,
      "outputs": []
    },
    {
      "cell_type": "code",
      "metadata": {
        "id": "CdU2Q84wWgS3",
        "colab_type": "code",
        "colab": {}
      },
      "source": [
        "#Average the monthly sales and group them by month, shop_id and item_id\n",
        "\n",
        "SalesPerMonth = salestrain.groupby([\"date_block_num\",\"shop_id\",\"item_id\"])[\n",
        "    \"date\",\"item_price\",\"item_cnt_day\"].agg({\"date\":[\"min\",'max'],\"item_price\":\"mean\",\"item_cnt_day\":\"sum\"})"
      ],
      "execution_count": 0,
      "outputs": []
    },
    {
      "cell_type": "code",
      "metadata": {
        "id": "_ghLMh3tWrir",
        "colab_type": "code",
        "colab": {
          "base_uri": "https://localhost:8080/",
          "height": 481
        },
        "outputId": "ff338765-d3cf-47ca-ce84-d6348a5325a8"
      },
      "source": [
        "SalesPerMonth"
      ],
      "execution_count": 12,
      "outputs": [
        {
          "output_type": "execute_result",
          "data": {
            "text/html": [
              "<div>\n",
              "<style scoped>\n",
              "    .dataframe tbody tr th:only-of-type {\n",
              "        vertical-align: middle;\n",
              "    }\n",
              "\n",
              "    .dataframe tbody tr th {\n",
              "        vertical-align: top;\n",
              "    }\n",
              "\n",
              "    .dataframe thead tr th {\n",
              "        text-align: left;\n",
              "    }\n",
              "\n",
              "    .dataframe thead tr:last-of-type th {\n",
              "        text-align: right;\n",
              "    }\n",
              "</style>\n",
              "<table border=\"1\" class=\"dataframe\">\n",
              "  <thead>\n",
              "    <tr>\n",
              "      <th></th>\n",
              "      <th></th>\n",
              "      <th></th>\n",
              "      <th colspan=\"2\" halign=\"left\">date</th>\n",
              "      <th>item_price</th>\n",
              "      <th>item_cnt_day</th>\n",
              "    </tr>\n",
              "    <tr>\n",
              "      <th></th>\n",
              "      <th></th>\n",
              "      <th></th>\n",
              "      <th>min</th>\n",
              "      <th>max</th>\n",
              "      <th>mean</th>\n",
              "      <th>sum</th>\n",
              "    </tr>\n",
              "    <tr>\n",
              "      <th>date_block_num</th>\n",
              "      <th>shop_id</th>\n",
              "      <th>item_id</th>\n",
              "      <th></th>\n",
              "      <th></th>\n",
              "      <th></th>\n",
              "      <th></th>\n",
              "    </tr>\n",
              "  </thead>\n",
              "  <tbody>\n",
              "    <tr>\n",
              "      <th rowspan=\"5\" valign=\"top\">0</th>\n",
              "      <th rowspan=\"5\" valign=\"top\">0</th>\n",
              "      <th>32</th>\n",
              "      <td>2013-01-21</td>\n",
              "      <td>2013-03-01</td>\n",
              "      <td>221.0</td>\n",
              "      <td>6.0</td>\n",
              "    </tr>\n",
              "    <tr>\n",
              "      <th>33</th>\n",
              "      <td>2013-01-17</td>\n",
              "      <td>2013-03-01</td>\n",
              "      <td>347.0</td>\n",
              "      <td>3.0</td>\n",
              "    </tr>\n",
              "    <tr>\n",
              "      <th>35</th>\n",
              "      <td>2013-01-31</td>\n",
              "      <td>2013-01-31</td>\n",
              "      <td>247.0</td>\n",
              "      <td>1.0</td>\n",
              "    </tr>\n",
              "    <tr>\n",
              "      <th>43</th>\n",
              "      <td>2013-01-31</td>\n",
              "      <td>2013-01-31</td>\n",
              "      <td>221.0</td>\n",
              "      <td>1.0</td>\n",
              "    </tr>\n",
              "    <tr>\n",
              "      <th>51</th>\n",
              "      <td>2013-01-13</td>\n",
              "      <td>2013-01-31</td>\n",
              "      <td>128.5</td>\n",
              "      <td>2.0</td>\n",
              "    </tr>\n",
              "    <tr>\n",
              "      <th>...</th>\n",
              "      <th>...</th>\n",
              "      <th>...</th>\n",
              "      <td>...</td>\n",
              "      <td>...</td>\n",
              "      <td>...</td>\n",
              "      <td>...</td>\n",
              "    </tr>\n",
              "    <tr>\n",
              "      <th rowspan=\"5\" valign=\"top\">33</th>\n",
              "      <th rowspan=\"5\" valign=\"top\">59</th>\n",
              "      <th>22087</th>\n",
              "      <td>2015-05-10</td>\n",
              "      <td>2015-10-23</td>\n",
              "      <td>119.0</td>\n",
              "      <td>6.0</td>\n",
              "    </tr>\n",
              "    <tr>\n",
              "      <th>22088</th>\n",
              "      <td>2015-03-10</td>\n",
              "      <td>2015-10-27</td>\n",
              "      <td>119.0</td>\n",
              "      <td>2.0</td>\n",
              "    </tr>\n",
              "    <tr>\n",
              "      <th>22091</th>\n",
              "      <td>2015-03-10</td>\n",
              "      <td>2015-03-10</td>\n",
              "      <td>179.0</td>\n",
              "      <td>1.0</td>\n",
              "    </tr>\n",
              "    <tr>\n",
              "      <th>22100</th>\n",
              "      <td>2015-10-18</td>\n",
              "      <td>2015-10-18</td>\n",
              "      <td>629.0</td>\n",
              "      <td>1.0</td>\n",
              "    </tr>\n",
              "    <tr>\n",
              "      <th>22102</th>\n",
              "      <td>2015-10-16</td>\n",
              "      <td>2015-10-16</td>\n",
              "      <td>1250.0</td>\n",
              "      <td>1.0</td>\n",
              "    </tr>\n",
              "  </tbody>\n",
              "</table>\n",
              "<p>1609124 rows × 4 columns</p>\n",
              "</div>"
            ],
            "text/plain": [
              "                                     date            item_price item_cnt_day\n",
              "                                      min        max       mean          sum\n",
              "date_block_num shop_id item_id                                              \n",
              "0              0       32      2013-01-21 2013-03-01      221.0          6.0\n",
              "                       33      2013-01-17 2013-03-01      347.0          3.0\n",
              "                       35      2013-01-31 2013-01-31      247.0          1.0\n",
              "                       43      2013-01-31 2013-01-31      221.0          1.0\n",
              "                       51      2013-01-13 2013-01-31      128.5          2.0\n",
              "...                                   ...        ...        ...          ...\n",
              "33             59      22087   2015-05-10 2015-10-23      119.0          6.0\n",
              "                       22088   2015-03-10 2015-10-27      119.0          2.0\n",
              "                       22091   2015-03-10 2015-03-10      179.0          1.0\n",
              "                       22100   2015-10-18 2015-10-18      629.0          1.0\n",
              "                       22102   2015-10-16 2015-10-16     1250.0          1.0\n",
              "\n",
              "[1609124 rows x 4 columns]"
            ]
          },
          "metadata": {
            "tags": []
          },
          "execution_count": 12
        }
      ]
    },
    {
      "cell_type": "code",
      "metadata": {
        "id": "MUSuwHawYQot",
        "colab_type": "code",
        "colab": {
          "base_uri": "https://localhost:8080/",
          "height": 404
        },
        "outputId": "1f34a0e1-dcac-49c4-d98b-940804392ce3"
      },
      "source": [
        "#Take the summation of the values for all the months for a particular item\n",
        "TotalSales = salestrain.groupby([\"date_block_num\"])[\"item_cnt_day\"].sum()\n",
        "TotalSales.astype('float')\n",
        "plt.figure(figsize=(10,6))\n",
        "plt.title(\"Total Sales of the company\")\n",
        "plt.xlabel(\"Time\")\n",
        "plt.ylabel(\"Sales\")\n",
        "plt.plot(TotalSales);\n"
      ],
      "execution_count": 13,
      "outputs": [
        {
          "output_type": "display_data",
          "data": {
            "image/png": "[encoded data removed]",
            "text/plain": [
              "<Figure size 720x432 with 1 Axes>"
            ]
          },
          "metadata": {
            "tags": [],
            "needs_background": "light"
          }
        }
      ]
    },
    {
      "cell_type": "code",
      "metadata": {
        "id": "6PVDRAWOZVuK",
        "colab_type": "code",
        "colab": {
          "base_uri": "https://localhost:8080/",
          "height": 1000
        },
        "outputId": "65c16fbd-a6ad-43c1-f5a8-80bfbf4ec7f7"
      },
      "source": [
        "#Check whether the data is stationary \n",
        "rollingMean = TotalSales.rolling(window=12, center = False).mean() #The value of window is 12 because we are computing on a monthly basis\n",
        "rollingStd = TotalSales.rolling(window=12, center = False).std()\n",
        "print(rollingMean, rollingStd)"
      ],
      "execution_count": 14,
      "outputs": [
        {
          "output_type": "stream",
          "text": [
            "date_block_num\n",
            "0               NaN\n",
            "1               NaN\n",
            "2               NaN\n",
            "3               NaN\n",
            "4               NaN\n",
            "5               NaN\n",
            "6               NaN\n",
            "7               NaN\n",
            "8               NaN\n",
            "9               NaN\n",
            "10              NaN\n",
            "11    130227.750000\n",
            "12    129012.750000\n",
            "13    127479.166667\n",
            "14    124825.416667\n",
            "15    123939.250000\n",
            "16    123174.250000\n",
            "17    120844.916667\n",
            "18    118704.416667\n",
            "19    116823.583333\n",
            "20    113979.916667\n",
            "21    112303.333333\n",
            "22    111289.666667\n",
            "23    110074.083333\n",
            "24    109580.083333\n",
            "25    107456.000000\n",
            "26    104682.416667\n",
            "27    103121.666667\n",
            "28    100997.083333\n",
            "29     98220.833333\n",
            "30     95879.750000\n",
            "31     92826.250000\n",
            "32     90629.166667\n",
            "33     87598.666667\n",
            "Name: item_cnt_day, dtype: float64 date_block_num\n",
            "0              NaN\n",
            "1              NaN\n",
            "2              NaN\n",
            "3              NaN\n",
            "4              NaN\n",
            "5              NaN\n",
            "6              NaN\n",
            "7              NaN\n",
            "8              NaN\n",
            "9              NaN\n",
            "10             NaN\n",
            "11    20058.213489\n",
            "12    20413.957930\n",
            "13    21166.949095\n",
            "14    20462.174804\n",
            "15    21499.334189\n",
            "16    22306.216431\n",
            "17    23483.221927\n",
            "18    24991.155259\n",
            "19    25297.812289\n",
            "20    25191.116845\n",
            "21    24874.024708\n",
            "22    24328.765901\n",
            "23    20457.875645\n",
            "24    20349.375632\n",
            "25    21627.352080\n",
            "26    22640.805573\n",
            "27    23864.409249\n",
            "28    25463.522525\n",
            "29    27613.304800\n",
            "30    29389.031470\n",
            "31    30496.292666\n",
            "32    30941.205206\n",
            "33    30927.837438\n",
            "Name: item_cnt_day, dtype: float64\n"
          ],
          "name": "stdout"
        }
      ]
    },
    {
      "cell_type": "markdown",
      "metadata": {
        "id": "oDGK6FxzbtEJ",
        "colab_type": "text"
      },
      "source": [
        "It can be observed from the data that their is seasonality in the data as the trend decreases after a certain time interval"
      ]
    },
    {
      "cell_type": "code",
      "metadata": {
        "id": "fswLR361aSy7",
        "colab_type": "code",
        "colab": {
          "base_uri": "https://localhost:8080/",
          "height": 390
        },
        "outputId": "1727a4e4-f8bf-42e0-a101-23f890ea3628"
      },
      "source": [
        "plt.figure(figsize=(10,6))\n",
        "originalSales = plt.plot(TotalSales , color= 'blue', label = 'Original Sales')\n",
        "mean = plt.plot(rollingMean, color = 'red', label = 'Rolling Mean')\n",
        "std = plt.plot(rollingStd, color = 'black', label ='Rolling Std')\n",
        "plt.legend(loc = 'best')\n",
        "plt.title('Rolling mean and Standard Deviation')\n",
        "plt.show(block =False)"
      ],
      "execution_count": 15,
      "outputs": [
        {
          "output_type": "display_data",
          "data": {
            "image/png": "[encoded data removed]",
            "text/plain": [
              "<Figure size 720x432 with 1 Axes>"
            ]
          },
          "metadata": {
            "tags": [],
            "needs_background": "light"
          }
        }
      ]
    },
    {
      "cell_type": "code",
      "metadata": {
        "id": "mwbM2rQKax0g",
        "colab_type": "code",
        "colab": {
          "base_uri": "https://localhost:8080/",
          "height": 170
        },
        "outputId": "3ad3f422-1401-4cce-9ec6-abe7810612eb"
      },
      "source": [
        "#We can also check the stationarity of the data by using Augmented Dickey-Fuller test\n",
        "from statsmodels.tsa.stattools import adfuller\n",
        "\n",
        "print('Results of Dickey Fuller test:')\n",
        "dftest = adfuller(TotalSales.values, autolag ='AIC') # the lag function used here can be changed based on type of data\n",
        "\n",
        "dfoutput = pd.Series(dftest[0:4], index =['Test Statistics', 'p-value', '#Lags Used','Number of Observations Used'])\n",
        "for key,value in dftest[4].items():\n",
        "  dfoutput['Critical Value (%s)'%key] = value\n",
        "\n",
        "print(dfoutput)"
      ],
      "execution_count": 16,
      "outputs": [
        {
          "output_type": "stream",
          "text": [
            "Results of Dickey Fuller test:\n",
            "Test Statistics                -2.395704\n",
            "p-value                         0.142953\n",
            "#Lags Used                      0.000000\n",
            "Number of Observations Used    33.000000\n",
            "Critical Value (1%)            -3.646135\n",
            "Critical Value (5%)            -2.954127\n",
            "Critical Value (10%)           -2.615968\n",
            "dtype: float64\n"
          ],
          "name": "stdout"
        }
      ]
    },
    {
      "cell_type": "code",
      "metadata": {
        "id": "EuywcBCodG7V",
        "colab_type": "code",
        "colab": {
          "base_uri": "https://localhost:8080/",
          "height": 282
        },
        "outputId": "137b3329-5e13-4efd-92d8-83d27e418ef4"
      },
      "source": [
        "TotalSales_logData = np.log(TotalSales)\n",
        "plt.plot(TotalSales_logData)"
      ],
      "execution_count": 17,
      "outputs": [
        {
          "output_type": "execute_result",
          "data": {
            "text/plain": [
              "[<matplotlib.lines.Line2D at 0x7fcd3d2b67b8>]"
            ]
          },
          "metadata": {
            "tags": []
          },
          "execution_count": 17
        },
        {
          "output_type": "display_data",
          "data": {
            "image/png": "[encoded data removed]",
            "text/plain": [
              "<Figure size 432x288 with 1 Axes>"
            ]
          },
          "metadata": {
            "tags": [],
            "needs_background": "light"
          }
        }
      ]
    },
    {
      "cell_type": "code",
      "metadata": {
        "id": "85wC0U66fhMV",
        "colab_type": "code",
        "colab": {}
      },
      "source": [
        ""
      ],
      "execution_count": 0,
      "outputs": []
    }
  ]
}